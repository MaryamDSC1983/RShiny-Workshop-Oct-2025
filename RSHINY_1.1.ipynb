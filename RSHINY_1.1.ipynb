{
 "cells": [
  {
   "cell_type": "markdown",
   "id": "0f95ddb2-eafc-40d9-ad53-8fa60df4dc1d",
   "metadata": {},
   "source": [
    "## 📊 Introduction to Interactive Web Applications with Shiny\n",
    "\n",
    "### Instructor: Dr. Maryam Movahedifar\n",
    "\n",
    "<div style=\"display: flex; justify-content: space-between; align-items: center;\">\n",
    "  <span style=\"display: flex; align-items: center;\">\n",
    "   \n",
    "  </span>\n",
    "  <div style=\"display: flex; align-items: center; margin-left: auto;\">\n",
    "    <img src=\"Uni_Logo.png\" alt=\"Uni Logo\" style=\"width: 100px; margin-right: 10px;\">\n",
    "    <img src=\"DSC_Logo.png\" alt=\"DSC Logo\" style=\"width: 150px;\">\n",
    "  </div>\n",
    "</div>"
   ]
  },
  {
   "cell_type": "markdown",
   "id": "f3a081a0-acb1-4cc3-b5ae-72048b2c422f",
   "metadata": {},
   "source": [
    "\n",
    "\n",
    "In many research projects, data analysis results are shared as static figures or reports. However, static outputs can limit how others explore and understand the data. **Shiny**, an R package, allows you to create **interactive web applications** that make data exploration more dynamic, accessible, and reproducible — even for people without programming experience.  \n",
    "\n",
    "This part of the course introduces the **fundamentals of Shiny**, guiding them step by step to transform standard R analyses and visualizations into **interactive dashboards and apps**. By the end of the session, you’ll be able to create and deploy your own Shiny apps to make your research outputs more engaging and shareable.\n",
    "\n",
    "---\n",
    "\n",
    "## 🎯 Objective\n",
    "Learn how to build interactive web applications using the `Shiny` package in R, integrating dynamic user inputs and `ggplot2` visualizations.\n",
    "\n",
    "## 🔹 Topics Covered\n",
    "- **Introduction to Shiny**\n",
    "  - Understanding the structure of a Shiny app (UI and server)\n",
    "  - Creating a basic Shiny app with simple input-output interaction\n",
    "\n",
    "- **Integrating `ggplot2` into Shiny**\n",
    "  - Embedding `ggplot2` plots within a Shiny app\n",
    "  - Making `ggplot2` plots interactive with user inputs\n",
    "\n",
    "- **Basic Reactivity**\n",
    "  - A detailed look at the server function and how input and output arguments work\n",
    "  - Basic reactivity: connecting inputs directly to outputs\n",
    "  - Using reactive expressions to avoid redundant calculations\n",
    "  - Common pitfalls that new Shiny users often face\n",
    "\n",
    "- **Adding Interactivity and Deployment**\n",
    "  - Understanding reactive programming in Shiny (inputs and outputs)\n",
    "  \n"
   ]
  },
  {
   "cell_type": "markdown",
   "id": "e970ba7b-87d1-4e29-9c59-0f192daee7da",
   "metadata": {},
   "source": [
    "# 📌 1. Introducing Shiny\n",
    "\n",
    "Shiny is an R package for building interactive web apps. You do **not** need HTML, CSS, or JavaScript. Apps can display data, run calculations, and respond to user input in real time.\n",
    "\n",
    "### 🔹 Why It Matters\n",
    "- Supports active learning and experimentation  \n",
    "- Encourages reproducibility and modular design  \n",
    "- Makes abstract ideas concrete through interactivity  \n",
    "\n",
    "### 📝 Notes\n",
    "Shiny allows you to create dashboards or interactive tools entirely in R. Key advantages:  \n",
    "- Learners can experiment with parameters and immediately see outcomes  \n",
    "- Promotes reproducible and modular workflows  \n",
    "- Makes abstract concepts easier to grasp through interactivity\n"
   ]
  },
  {
   "cell_type": "markdown",
   "id": "f548984d-4f6b-4bcd-b8d1-676856252c4e",
   "metadata": {},
   "source": [
    "# 📌 Shiny App Pieces at a Glance\n",
    "\n",
    "<div style=\"text-align: center;\">\n",
    "<img src=\"shiny.app.png\" alt=\"Shiny App Structure\" width=\"80%\">\n",
    "</div>\n",
    "\n",
    "### 🔹 Key Concepts\n",
    "- **UI (User Interface)**: Controls the layout and appearance of the app (buttons, text boxes, plots)  \n",
    "- **Server**: Handles logic, processes inputs, and generates outputs  \n",
    "- **shinyApp(ui, server)**: Connects the UI and server to launch the app  \n",
    "\n",
    "### 📝 Notes\n",
    "- UI = appearance  \n",
    "- Server = logic  \n",
    "- `shinyApp()` = connects both and runs the app\n",
    "\n"
   ]
  },
  {
   "cell_type": "markdown",
   "id": "c2660c94-76e2-417f-bccb-5091fd342892",
   "metadata": {},
   "source": [
    "# 📌  How the UI and Server Communicate\n",
    "\n",
    "<div style=\"text-align: center;\">\n",
    "<img src=\"shiny.app.1.png\" alt=\"UI and Server Communication\" width=\"70%\">\n",
    "</div>\n",
    "\n",
    "### 🔹 Flow of Data\n",
    "1. **User input** in the UI (e.g., `methodInput(\"ID\")`)  \n",
    "2. Input travels to the **server** and is accessed via `input$ID`  \n",
    "3. Server processes the input (calculations, filtering, plotting, etc.)  \n",
    "4. Server sends the output to the UI via `output$value`  \n",
    "5. UI displays the result using `typeOutput(\"value\")`  \n",
    "\n",
    "### 📝 Notes\n",
    "- The process is **reactive**: outputs update automatically whenever inputs change  \n",
    "- Flow summary: **User input → Server processes → Output displayed in UI**\n",
    "\n"
   ]
  },
  {
   "cell_type": "markdown",
   "id": "6db0ab0a-8f9e-45ad-a62b-9a9eb7678a23",
   "metadata": {},
   "source": [
    "### 1.1 Create a Basic Shiny App\n",
    "\n",
    "First, let's write a simple Shiny app where we take user input (a text input) and display it as output.\n"
   ]
  },
  {
   "cell_type": "code",
   "execution_count": 1,
   "id": "ff6d3176-d978-413d-bcf9-577363108f2c",
   "metadata": {},
   "outputs": [
    {
     "name": "stderr",
     "output_type": "stream",
     "text": [
      "Updating HTML index of packages in '.Library'\n",
      "\n",
      "Making 'packages.html' ...\n",
      " done\n",
      "\n"
     ]
    }
   ],
   "source": [
    "install.packages(\"shiny\")\n",
    "# Load the shiny package\n",
    "library(shiny)"
   ]
  },
  {
   "cell_type": "code",
   "execution_count": 1,
   "id": "32d6dc89-3cb8-4482-87ea-4c4d0e8a0a66",
   "metadata": {},
   "outputs": [],
   "source": [
    "# Then define the user interface, the HTML webpage that humans interat with. In this case it is a page containing the words \"Hello, world!\"\n",
    "ui <- fluidPage(\n",
    "  \"Hello, world!\"\n",
    ")\n",
    "\n",
    "# then specifies the behaviour of our app by defining a server function. It is currently empty, so our app does not do anything.\n",
    "server <- function(input, output, session) {\n",
    "}\n"
   ]
  },
  {
   "cell_type": "code",
   "execution_count": 2,
   "id": "63fe2801-65db-43c8-a730-8de92b673e2e",
   "metadata": {},
   "outputs": [
    {
     "name": "stderr",
     "output_type": "stream",
     "text": [
      "\n",
      "Listening on http://127.0.0.1:5155\n",
      "\n"
     ]
    }
   ],
   "source": [
    "# Following executes shinyapp to construct and start a shiny application from ui and server.\n",
    "shinyApp(ui, server)\n"
   ]
  },
  {
   "cell_type": "code",
   "execution_count": 3,
   "id": "31dd1107-68e4-4e1d-a5c0-30ef49c648ca",
   "metadata": {},
   "outputs": [],
   "source": [
    "#shinyApp(ui = ui, server = server, options = list(port = 3647, host = \"0.0.0.0\"))"
   ]
  },
  {
   "cell_type": "markdown",
   "id": "4f9580e9-bdd5-4513-be6d-6dd53779fd8b",
   "metadata": {},
   "source": [
    "\n",
    "### 🔹 Explanation of the Code:\n",
    "\n",
    "#### **UI Component**:\n",
    "- **`fluidPage()`**: This function is used to create a responsive page layout. It adjusts based on the screen size.\n",
    "- **`textInput(\"text\", \"Enter text:\", value = \"Hello, World!\")`**: This line creates a text input box where the user can type. The ID for this input is `\"text\"`, and the default value is `\"Hello, World!\"`.\n",
    "- **`textOutput(\"output\")`**: This specifies where the output will be shown. The ID `\"output\"` links this element to the `renderText()` output in the server function.\n",
    "\n",
    "#### **Server Component**:\n",
    "- **`server` function**: This function defines the logic of the Shiny app. It specifies how the app should behave based on user inputs.\n",
    "- **`output$output <- renderText({ input$text })`**: This line connects the input and output. It tells Shiny to take the text entered by the user (`input$text`) and render it as text in the `\"output\"` section of the UI.\n",
    "\n",
    "#### **`shinyApp()`**:\n",
    "- This function takes both the UI and server components and combines them to form a Shiny app. Once this function is run, it launches the app in a web browser.\n"
   ]
  },
  {
   "cell_type": "markdown",
   "id": "e7e7489c-a6f8-447a-9082-462f6daab1ac",
   "metadata": {},
   "source": [
    "## 1.2 Running and Stopping\n",
    "\n",
    "There are a few ways you can run this app:\n",
    "\n",
    "- Click the **Run App** button in the document toolbar.\n",
    "- Use the keyboard shortcut: `Cmd/Ctrl + Shift + Enter`.\n",
    "- If you’re not using RStudio, you can source the entire document with `source()` or call `shiny::runApp()` with the path to the directory containing `app.R`.\n"
   ]
  },
  {
   "cell_type": "markdown",
   "id": "54306c4a-8338-48e1-92f4-561432bbd446",
   "metadata": {},
   "source": [
    "\n",
    "Before you close the app, go back to RStudio and look at the R console. You’ll notice that it says something like:\n",
    "Listening on http://127.0.0.1:3204\n"
   ]
  },
  {
   "cell_type": "markdown",
   "id": "40f89023-3d25-46d9-b3df-e8cd6571d6e3",
   "metadata": {},
   "source": [
    "\n",
    "This tells you the URL where your app can be found: `127.0.0.1` is a standard address that means “this computer,” and `3204` is a randomly assigned port number. You can enter that URL into any compatible web browser to open another copy of your app.\n",
    "\n",
    "Also, notice that R is busy: the R prompt isn’t visible, and the console toolbar displays a stop sign icon. While a Shiny app is running, it “blocks” the R console. This means that you can’t run new commands at the R console until the Shiny app stops.\n",
    "\n",
    "### Stopping the App\n",
    "\n",
    "You can stop the app and return access to the console using any one of these options:\n",
    "\n",
    "- Click the **stop sign** icon on the R console toolbar.\n",
    "- Click on the console, then press **Esc** (or press **Ctrl + C** if you’re not using RStudio).\n",
    "- Close the Shiny app window.\n"
   ]
  },
  {
   "cell_type": "markdown",
   "id": "43857c7b-aa28-4fbe-a5e4-40f6afb2686c",
   "metadata": {},
   "source": [
    "## 1.3 Adding UI Controls\n",
    "\n",
    "Next, we’ll add some inputs and outputs to our UI so it’s not quite so minimal. We’re going to make a very simple app that shows you all the built-in data frames included in the `datasets` package.\n",
    "\n",
    "Replace your `ui` with this code:\n"
   ]
  },
  {
   "cell_type": "code",
   "execution_count": 4,
   "id": "a21e54f2-86d1-450a-9c2f-6e9ec55a126f",
   "metadata": {},
   "outputs": [],
   "source": [
    "ui <- fluidPage(\n",
    "  selectInput(\"dataset\", label = \"Dataset\", choices = ls(\"package:datasets\")),\n",
    "  verbatimTextOutput(\"summary\"),\n",
    "  tableOutput(\"table\")\n",
    ")"
   ]
  },
  {
   "cell_type": "markdown",
   "id": "b6c26992-39d9-482b-87e3-94127969a2d0",
   "metadata": {},
   "source": [
    "This example uses four functions:\n",
    "\n",
    "- `fluidPage()` is a layout function that sets up the basic visual structure of the page.\n",
    "\n",
    "- `selectInput()` is an input control that lets the user interact with the app by providing a value. In this case, it’s a select box with the label “Dataset” and lets you choose one of the built-in datasets that come with R. \n",
    "\n",
    "- `verbatimTextOutput()` and `tableOutput()` are output controls that tell Shiny where to put rendered output (we’ll get into the how in a moment). `verbatimTextOutput()` displays code and `tableOutput()` displays tables.\n",
    "\n",
    "Layout functions, inputs, and outputs have different uses, but they are fundamentally the same under the covers: they’re all just fancy ways to generate HTML, and if you call any of them outside of a Shiny app, you’ll see HTML printed out at the console. Don’t be afraid to poke around to see how these various layouts and controls work under the hood.\n"
   ]
  },
  {
   "cell_type": "code",
   "execution_count": 5,
   "id": "9097eac1-6494-4192-bd21-c9a0d9e0a1c9",
   "metadata": {},
   "outputs": [],
   "source": [
    "#shinyApp(ui, server)"
   ]
  },
  {
   "cell_type": "markdown",
   "id": "d649f410-5025-49b1-8d1d-75536613a9a6",
   "metadata": {},
   "source": [
    "## 1.4 Adding Behaviour\n",
    "\n",
    "Next, we’ll bring our outputs to life by defining them in the **server** function.\n",
    "\n",
    "Shiny uses **reactive programming** to make apps interactive.  \n",
    "This means your app **automatically updates** whenever something changes — for example, when a user clicks a button or selects a new option.\n",
    "\n",
    "It’s important to understand that reactive programming is about **telling Shiny how** to perform a computation, not **ordering it to do so immediately**.  \n",
    "Think of it like the difference between **writing a recipe** and **telling someone to make you a sandwich right now**.\n",
    "\n",
    "So, when you write code in Shiny, you’re not saying:\n",
    "\n",
    "> “Do this right now!”\n",
    "\n",
    "You’re saying:\n",
    "\n",
    "> “Here’s what to do **when** something changes.”\n",
    "\n",
    "Now, let’s tell Shiny how to fill in the **summary** and **table** outputs in our sample app by providing the “recipes” for those outputs.  \n",
    "Replace your empty server function with this code:\n"
   ]
  },
  {
   "cell_type": "code",
   "execution_count": 6,
   "id": "3096eb1c-9097-4d96-8bf2-0d3d3d56eceb",
   "metadata": {},
   "outputs": [],
   "source": [
    "server <- function(input, output, session) {\n",
    "  output$summary <- renderPrint({\n",
    "    dataset <- get(input$dataset, \"package:datasets\")\n",
    "    summary(dataset)\n",
    "  })\n",
    "  \n",
    "  output$table <- renderTable({\n",
    "    dataset <- get(input$dataset, \"package:datasets\")\n",
    "    dataset\n",
    "  })\n",
    "}"
   ]
  },
  {
   "cell_type": "markdown",
   "id": "e43a3b99-9f8c-4174-bf49-d0f633b94a70",
   "metadata": {},
   "source": [
    "The left-hand side of the assignment operator (`<-`), `output$ID`, indicates that you’re providing the recipe for the Shiny output with that ID. The right-hand side of the assignment uses a specific render function to wrap some code that you provide. Each `render{Type}` function is designed to produce a particular type of output (e.g., text, tables, and plots), and is often paired with a `{type}Output` function. For example, in this app, `renderPrint()` is paired with `verbatimTextOutput()` to display a statistical summary with fixed-width (verbatim) text, and `renderTable()` is paired with `tableOutput()` to show the input data in a table.\n",
    "\n",
    "Run the app again and play around, watching what happens to the output when you change an input.\n"
   ]
  },
  {
   "cell_type": "markdown",
   "id": "fe77ef1a-c923-4da7-856e-ba1e9969b140",
   "metadata": {},
   "source": [
    "Notice that the summary and table update whenever you change the input dataset. This dependency is created implicitly because we’ve referred to `input$dataset` within the output functions. `input$dataset` is populated with the current value of the UI component with the id `dataset`, and will cause the outputs to automatically update whenever that value changes. \n",
    "\n",
    "This is the essence of reactivity: outputs automatically react (recalculate) when their inputs change.\n"
   ]
  },
  {
   "cell_type": "markdown",
   "id": "98307ec5-60b9-479a-a118-41d0d8a81f9b",
   "metadata": {},
   "source": [
    "# 2. Basic UI"
   ]
  },
  {
   "cell_type": "markdown",
   "id": "afc762bd-5caa-4946-b043-c395e08966bc",
   "metadata": {},
   "source": [
    "## Shiny's Built-in Input Controls  \n",
    "\n",
    "The following sections introduce the various input controls available in Shiny, grouped by their functionality. This serves as a **quick overview** of the available options rather than an exhaustive guide.  \n",
    "\n",
    "For each input type, I’ll highlight the **key parameters**, but for a complete list of arguments and advanced configurations, refer to the official documentation.  \n"
   ]
  },
  {
   "cell_type": "markdown",
   "id": "cb3694c7-f025-4d67-8500-656d007e9d4c",
   "metadata": {},
   "source": [
    "## 2.1 Free Text Inputs \n",
    "\n",
    "Shiny provides several functions for collecting **text input** from users. These inputs allow users to type in words, sentences, or even longer pieces of text that your app can use for display, analysis, or processing.\n",
    "\n",
    "- **`textInput()`** is used for collecting short pieces of text, such as a name, title, or a single word.  \n",
    "- **`passwordInput()`** works like `textInput()` but hides the characters as the user types — useful for sensitive information like passwords or access keys.  \n",
    "- **`textAreaInput()`** creates a larger text box, suitable for collecting longer responses, comments, or descriptions. You can also control its size using the `rows` argument.\n",
    "\n",
    "Here’s an example that includes all three:\n",
    "\n"
   ]
  },
  {
   "cell_type": "code",
   "execution_count": 7,
   "id": "56218dd5-7185-4b33-b811-d962570eb2a8",
   "metadata": {},
   "outputs": [],
   "source": [
    "ui <- fluidPage(\n",
    "  textInput(\"name\", \"What's your name?\"),\n",
    "  passwordInput(\"password\", \"What's your password?\"),\n",
    "  textAreaInput(\"story\", \"Tell me about yourself\", rows = 3)\n",
    ")"
   ]
  },
  {
   "cell_type": "markdown",
   "id": "f52e5a59-e69f-407f-8286-df734b765ada",
   "metadata": {},
   "source": [
    "## 2.2 Numeric Inputs\n",
    "\n",
    "Shiny provides several ways to collect **numeric values** from users:\n",
    "\n",
    "- **`numericInput()`** creates a standard input box where users can type a number. You can also set minimum, maximum, and step values to constrain the input.  \n",
    "- **`sliderInput()`** creates a slider that users can drag to select a value (or a range of values).  \n",
    "\n",
    "  - If you provide a **length-2 numeric vector** for the default value, `sliderInput()` becomes a **range slider** with two handles for selecting a minimum and maximum.  \n",
    "  - Sliders are **highly customizable** in Shiny. You can adjust their size, step increments, orientation, colors, and even add animation for continuous updates.\n",
    "\n",
    "These tools make it easy to **guide users to valid numeric input** while giving them an interactive and intuitive interface.\n",
    "\n",
    "For a full guide to all slider options and customizations, check out the official documentation:  \n",
    "\n",
    "🔗 [Shiny Slider Inputs](https://shiny.rstudio.com/articles/sliders.html)\n",
    "\n"
   ]
  },
  {
   "cell_type": "code",
   "execution_count": 8,
   "id": "3f773c0e-9128-4fd6-9893-f45411b8ff62",
   "metadata": {},
   "outputs": [],
   "source": [
    "ui <- fluidPage(\n",
    "  numericInput(\"num\", \"Number one\", value = 0, min = 0, max = 100),\n",
    "  sliderInput(\"num2\", \"Number two\", value = 50, min = 0, max = 100),\n",
    "  sliderInput(\"rng\", \"Range\", value = c(10, 20), min = 0, max = 100)\n",
    ")"
   ]
  },
  {
   "cell_type": "markdown",
   "id": "05b1dabe-9f4e-4f06-853e-d530fa1fced6",
   "metadata": {},
   "source": [
    "## 2.3 Dates\n",
    "\n",
    "Shiny makes it easy to collect **date information** from users using:\n",
    "\n",
    "- **`dateInput()`** – lets the user select a **single day** from a convenient calendar picker.  \n",
    "- **`dateRangeInput()`** – allows the user to select a **range of two dates** (start and end) with a calendar interface.\n"
   ]
  },
  {
   "cell_type": "code",
   "execution_count": 9,
   "id": "e11b0715-d63e-4622-9334-69a68de2bc3b",
   "metadata": {},
   "outputs": [],
   "source": [
    "ui <- fluidPage(\n",
    "  dateInput(\"dob\", \"When were you born?\"),\n",
    "  dateRangeInput(\"holiday\", \"When do you want to go on vacation next?\")\n",
    ")"
   ]
  },
  {
   "cell_type": "markdown",
   "id": "695aa376-13b4-4f89-a674-cdadeb7846d9",
   "metadata": {},
   "source": [
    "## 2.4 Limited Choices  \n",
    "\n",
    "Shiny provides two main ways to let users **choose from a predefined set of options**:\n",
    "\n",
    "- **`selectInput()`** – creates a **dropdown menu**, ideal when you have a long list of choices or want to save space on the page.  \n",
    "- **`radioButtons()`** – creates a set of **radio buttons**, allowing users to see all options at once and select one.\n",
    "\n",
    "Here’s an example:\n",
    "\n"
   ]
  },
  {
   "cell_type": "code",
   "execution_count": 10,
   "id": "2bbd5615-a1fc-47ea-8c1d-c5dc4c79eca5",
   "metadata": {},
   "outputs": [],
   "source": [
    "animals <- c(\"dog\", \"cat\", \"mouse\", \"bird\", \"other\", \"I hate animals\")\n",
    "\n",
    "ui <- fluidPage(\n",
    "  selectInput(\"state\", \"What's your favourite state?\", state.name),\n",
    "  radioButtons(\"animal\", \"What's your favourite animal?\", animals)\n",
    ")"
   ]
  },
  {
   "cell_type": "markdown",
   "id": "643ff846-f29d-48ee-b134-bf9b327baf55",
   "metadata": {},
   "source": [
    "## 2.5 Radio Buttons\n",
    "\n",
    "Radio buttons in Shiny have some useful features:  \n",
    "\n",
    "- **Display all options at once** – ideal for short lists where you want users to see every choice immediately.  \n",
    "- **Custom labels and values** – using the `choiceNames` and `choiceValues` arguments, you can show something different to the user than what your server receives.  \n",
    "\n",
    "  - `choiceNames` defines **what the user sees**.  \n",
    "  - `choiceValues` defines **what Shiny passes to your server**.  \n",
    "\n",
    "This flexibility allows you to present more user-friendly labels while keeping consistent or concise values for your calculations and logic in the server.\n"
   ]
  },
  {
   "cell_type": "code",
   "execution_count": 11,
   "id": "64033707-6516-4412-b5f5-c5ba4cb45cad",
   "metadata": {},
   "outputs": [],
   "source": [
    "ui <- fluidPage(\n",
    "  radioButtons(\"rb\", \"Choose one:\",\n",
    "    choiceNames = list(\n",
    "      icon(\"angry\"),\n",
    "      icon(\"smile\"),\n",
    "      icon(\"sad-tear\")\n",
    "    ),\n",
    "    choiceValues = list(\"angry\", \"happy\", \"sad\")\n",
    "  )\n",
    ")"
   ]
  },
  {
   "cell_type": "markdown",
   "id": "87e99fc3-f7b8-4f66-b9b4-16cd266e1305",
   "metadata": {},
   "source": [
    "## 2.6 Dropdowns  \n",
    "\n",
    "Dropdowns created with `selectInput()` take up the same amount of space, regardless of the number of options, making them more suitable for longer lists.  \n",
    "\n",
    "You can also set `multiple = TRUE` to allow the user to select multiple elements.  \n"
   ]
  },
  {
   "cell_type": "code",
   "execution_count": 12,
   "id": "7d3b7cde-45cb-428d-b396-c82a245bad5d",
   "metadata": {},
   "outputs": [],
   "source": [
    "ui <- fluidPage(\n",
    "  selectInput(\n",
    "    \"state\", \"What's your favourite state?\", state.name,\n",
    "    multiple = TRUE\n",
    "  )\n",
    ")"
   ]
  },
  {
   "cell_type": "markdown",
   "id": "3d7c46be-8de7-48b9-96fd-27459609abba",
   "metadata": {},
   "source": [
    "## 2.7 Checkbox Groups  \n",
    "\n",
    "There’s no way to select multiple values with radio buttons, but there’s an alternative that’s conceptually similar: `checkboxGroupInput()`.  \n"
   ]
  },
  {
   "cell_type": "code",
   "execution_count": 13,
   "id": "8efc5cc8-c005-461e-952d-32564026774e",
   "metadata": {},
   "outputs": [],
   "source": [
    "ui <- fluidPage(\n",
    "  checkboxGroupInput(\"animal\", \"What animals do you like?\", animals)\n",
    ")"
   ]
  },
  {
   "cell_type": "markdown",
   "id": "f6385768-4c2a-46b6-95ed-f3d7f8b8e80b",
   "metadata": {},
   "source": [
    "## 2.8 Single Checkbox  \n",
    "\n",
    "If you want a single checkbox for a single yes/no question, use `checkboxInput()`.  \n"
   ]
  },
  {
   "cell_type": "code",
   "execution_count": 14,
   "id": "3cc575e2-348c-4232-9318-268b04b2bf02",
   "metadata": {},
   "outputs": [],
   "source": [
    "ui <- fluidPage(\n",
    "  checkboxInput(\"cleanup\", \"Clean up?\", value = TRUE),\n",
    "  checkboxInput(\"shutdown\", \"Shutdown?\")\n",
    ")"
   ]
  },
  {
   "cell_type": "markdown",
   "id": "dfb3a3cb-3b38-4b84-9b1d-7e86200ea9a4",
   "metadata": {},
   "source": [
    "## 2.9 File Uploads  \n",
    "\n",
    "Allow the user to upload a file with `fileInput()`.  \n"
   ]
  },
  {
   "cell_type": "code",
   "execution_count": 15,
   "id": "573b5cfc-e3c7-47da-b399-1df7bf216bb2",
   "metadata": {},
   "outputs": [],
   "source": [
    "ui <- fluidPage(\n",
    "  fileInput(\"upload\", NULL)\n",
    ")"
   ]
  },
  {
   "cell_type": "markdown",
   "id": "02b5779e-7632-414e-91ec-d31929219cd0",
   "metadata": {},
   "source": [
    "## 2.10 Action Buttons  \n",
    "\n",
    "Let the user perform an action with `actionButton()` or `actionLink()`.  \n"
   ]
  },
  {
   "cell_type": "code",
   "execution_count": 16,
   "id": "0da03538-766b-4fd7-a23f-e480b893dd88",
   "metadata": {},
   "outputs": [],
   "source": [
    "ui <- fluidPage(\n",
    "  actionButton(\"click\", \"Click me!\"),\n",
    "  actionButton(\"drink\", \"Drink me!\", icon = icon(\"cocktail\"))\n",
    ")"
   ]
  },
  {
   "cell_type": "markdown",
   "id": "46c85eba-953e-475c-9b79-f9907d3d90d5",
   "metadata": {},
   "source": [
    "# 3 Basic Reactivity  \n",
    "\n",
    "## 3.0 Introduction  \n",
    "\n",
    "In Shiny, the logic inside the **server** is built using something called **reactive programming**.  \n",
    "\n",
    "**Reactivity** means that your app can automatically update its results whenever an input changes. For example, if a user moves a slider or selects a different option, Shiny will instantly recalculate and refresh the related outputs without you having to write extra update code.  \n",
    "\n",
    "This makes your app feel dynamic and responsive — the values and results stay in sync with user actions.  \n",
    "\n",
    "This section gives a **simple introduction** to reactivity in Shiny and explains:  \n",
    "- How the **server function** works, including the roles of the `input` and `output` objects.  \n",
    "- How **basic reactivity** connects user inputs directly to outputs.  \n",
    "- What **reactive expressions** are and how they help avoid repeating calculations.  \n",
    "- Some **common mistakes** beginners run into when working with reactivity.  \n",
    "  "
   ]
  },
  {
   "cell_type": "markdown",
   "id": "8aca78f2-89c1-4b49-8f65-65dc1a2bf3bd",
   "metadata": {},
   "source": [
    "## 3.1 The Server Function  \n",
    "\n",
    "As you have seen every Shiny app follows this basic structure:  "
   ]
  },
  {
   "cell_type": "code",
   "execution_count": null,
   "id": "46314184-9cdc-4d45-9e16-e51051131925",
   "metadata": {},
   "outputs": [],
   "source": [
    "library(shiny)\n",
    "\n",
    "ui <- fluidPage(\n",
    "  # front end interface\n",
    ")\n",
    "\n",
    "server <- function(input, output, session) {\n",
    "  # back end logic\n",
    "}\n",
    "\n",
    "shinyApp(ui, server)"
   ]
  },
  {
   "cell_type": "markdown",
   "id": "71729a42-f944-423f-8234-b07f48de8965",
   "metadata": {},
   "source": [
    "## 3.1.1 Server Function Overview  \n",
    "\n",
    "The **ui** defines the front end of a Shiny app, showing the same HTML structure to every user.  \n",
    "The **server** function, however, is a bit different — it runs separately for each person who opens the app.  \n",
    "\n",
    "This separation is important because it ensures that **each user has their own session**. In other words, when one person changes a value or input, it won’t affect what other users see.  \n",
    "\n",
    "To make this work, Shiny automatically calls the `server()` function every time someone starts a new session. Each session gets its **own private environment**, so:  \n",
    "- Every user has their own independent state.  \n",
    "- Variables and data inside one session are not shared with others.  \n",
    "- Most of the app’s reactive logic happens inside the `server` function.  \n",
    "\n",
    "### 3.1.2 Server Function Parameters  \n",
    "\n",
    "The `server` function takes three main parameters:  \n",
    "- **`input`** – Stores everything the user enters or selects in the UI.  \n",
    "- **`output`** – Defines what appears in the UI and updates automatically when data changes.  \n",
    "- **`session`** – Provides extra tools for managing the user’s connection to the app. For example, it can control things like sending messages to the client, updating inputs, or ending the session when a user closes the app.  \n",
    "\n",
    "You don’t need to create these objects yourself — Shiny automatically provides them when your app runs. The next sections will focus on `input` and `output`.  \n",
    "\n"
   ]
  },
  {
   "cell_type": "markdown",
   "id": "211c106d-2eb0-4515-a5d1-6a34b084d587",
   "metadata": {},
   "source": [
    "## 3.2.1 Input  \n",
    "\n",
    "The `input` argument is a **list-like object** that stores all user input data from the browser. Each input is named according to its **input ID**.  \n",
    "\n",
    "For example, if your UI includes a numeric input with an ID of `count`:  "
   ]
  },
  {
   "cell_type": "code",
   "execution_count": null,
   "id": "8b23a0c7-615d-42cc-a8b8-428c096f3c04",
   "metadata": {},
   "outputs": [],
   "source": [
    "ui <- fluidPage(\n",
    "  numericInput(\"count\", label = \"Number of values\", value = 100)\n",
    ")"
   ]
  },
  {
   "cell_type": "markdown",
   "id": "ff4aaeb3-8b78-4c37-9871-58616eb5ab61",
   "metadata": {},
   "source": [
    "Once defined, you can access the input value using `input$count`. Initially, it will contain the default value (e.g., `100`), and it will automatically update as the user interacts with the UI.  \n",
    "\n",
    "Unlike regular lists, **`input` objects are read-only**. Attempting to modify an input value inside the server function will result in an error.  "
   ]
  },
  {
   "cell_type": "code",
   "execution_count": null,
   "id": "1402d4b3-7e55-4875-8ec7-d2cd561c0538",
   "metadata": {},
   "outputs": [],
   "source": [
    "server <- function(input, output, session) {\n",
    "  input$count <- 10\n",
    "}\n",
    "\n",
    "shinyApp(ui, server)\n",
    "#> Error: Can't modify read-only reactive value 'count'"
   ]
  },
  {
   "cell_type": "markdown",
   "id": "e53ceb44-cb77-44cc-b127-4b9b7fecc250",
   "metadata": {},
   "source": [
    "### Important Note About `input`  \n",
    "\n",
    "One crucial rule about `input`: **it can only be read inside a reactive context**. Functions like `renderText()` or `reactive()` create these contexts. This constraint ensures that outputs update automatically when inputs change.  \n",
    "\n",
    "If you try to access `input` outside a reactive context, you’ll get an error. For example, the following code will fail:  \n"
   ]
  },
  {
   "cell_type": "code",
   "execution_count": null,
   "id": "835b8dc0-dcc7-472f-9831-4f8c798e13bd",
   "metadata": {},
   "outputs": [],
   "source": [
    "server <- function(input, output, session) {\n",
    "  value <- input$count  # ❌ Error: Not in a reactive context\n",
    "}"
   ]
  },
  {
   "cell_type": "markdown",
   "id": "7da1472b-e838-40a6-9412-86f39593f885",
   "metadata": {},
   "source": [
    "### **Summary**  \n",
    "Shiny restricts access to `input` values—you can only read them inside **reactive contexts** like `renderText()` or `reactive()`. This rule ensures that outputs update automatically when inputs change.\n"
   ]
  },
  {
   "cell_type": "markdown",
   "id": "f4167c6c-0c68-4164-975d-a0fc0a8702df",
   "metadata": {},
   "source": [
    "## 3.2.2 Output  \n",
    "\n",
    "The `output` object is similar to `input`: it’s a **list-like object** named according to the **output ID**. However, unlike `input`, which receives data from the user, `output` is used to **send data to the UI**.  \n",
    "\n",
    "To update an output, you must use it inside a **render function**. Here’s a simple example:  \n"
   ]
  },
  {
   "cell_type": "code",
   "execution_count": null,
   "id": "81c1ece1-ddcf-45b7-b28d-4a6d758c34c8",
   "metadata": {},
   "outputs": [],
   "source": [
    "ui <- fluidPage(\n",
    "  textOutput(\"greeting\")\n",
    ")\n",
    "\n",
    "server <- function(input, output, session) {\n",
    "  output$greeting <- renderText(\"Hello human!\")\n",
    "}"
   ]
  },
  {
   "cell_type": "markdown",
   "id": "adce05fc-4095-462c-8378-777502b1efbc",
   "metadata": {},
   "source": [
    "### The Render Function  \n",
    "\n",
    "The **render function** plays two important roles:  \n",
    "\n",
    "1. **Creates a reactive context** – It automatically tracks which `input` values the `output` depends on, ensuring updates happen when inputs change.  \n",
    "2. **Formats output for the web** – It converts R output into **HTML**, making it suitable for display in the UI.  \n",
    "\n",
    "#### **Common Mistake: Forgetting the Render Function**  \n",
    "Just like `input`, `output` has strict usage rules. If you forget to use a **render function**, you’ll encounter an error.  \n",
    "\n",
    "For example, this will **fail**:  "
   ]
  },
  {
   "cell_type": "code",
   "execution_count": null,
   "id": "9dc53ab5-bfb6-4be8-8865-d60d73fa0156",
   "metadata": {},
   "outputs": [],
   "source": [
    "server <- function(input, output, session) {\n",
    "  output$greeting <- \"Hello human\"\n",
    "}\n",
    "shinyApp(ui, server)\n",
    "#> Error: Unexpected character object for output$greeting\n",
    "#> ℹ Did you forget to use a render function?"
   ]
  },
  {
   "cell_type": "markdown",
   "id": "99a30d53-45d4-4b41-b310-b83fa4165d17",
   "metadata": {},
   "source": [
    "Another mistake: You attempt to read from an output:"
   ]
  },
  {
   "cell_type": "code",
   "execution_count": null,
   "id": "247b4b57-c173-44cf-b5aa-7ddc98380590",
   "metadata": {},
   "outputs": [],
   "source": [
    "server <- function(input, output, session) {\n",
    "  message(\"The greeting is \", output$greeting)\n",
    "}\n",
    "shinyApp(ui, server)\n",
    "#> Error: Reading from shinyoutput object is not allowed."
   ]
  },
  {
   "cell_type": "markdown",
   "id": "6dabf705-3297-4f5c-a756-b7a54cce155a",
   "metadata": {},
   "source": [
    "## 3.3 Reactive Programming  \n",
    "\n",
    "An app isn’t very useful if it only has inputs or only has outputs. The **real power of Shiny** comes from combining both, allowing outputs to dynamically respond to user inputs.  \n",
    "\n",
    "Here’s a simple example of how reactivity works in Shiny:  "
   ]
  },
  {
   "cell_type": "code",
   "execution_count": null,
   "id": "253c3e17-48e8-4e68-b67a-a88aa3580810",
   "metadata": {},
   "outputs": [],
   "source": [
    "ui <- fluidPage(\n",
    "  textInput(\"name\", \"What's your name?\"),\n",
    "  textOutput(\"greeting\")\n",
    ")\n",
    "\n",
    "server <- function(input, output, session) {\n",
    "  output$greeting <- renderText({\n",
    "    paste0(\"Hello \", input$name, \"!\")\n",
    "  })\n",
    "}"
   ]
  },
  {
   "cell_type": "markdown",
   "id": "2c6fcb4b-af95-431f-8942-7140a912e7c4",
   "metadata": {},
   "source": [
    "### **Summary**  \n",
    "Shiny’s **reactive programming** enables dynamic interactions between inputs and outputs. When an input changes, **Shiny automatically updates dependent outputs**—creating an interactive experience.\n"
   ]
  },
  {
   "cell_type": "markdown",
   "id": "02dac3b8-84f6-4eb0-a647-6f8f865ef699",
   "metadata": {},
   "source": [
    "## 3.4 Reactive Expressions  \n",
    "\n",
    "### **What Are Reactive Expressions?**  \n",
    "A **reactive expression** is a piece of code that automatically updates when the input values on which it depends change. It combines the roles of both **inputs** (what the user provides) and **outputs** (what is shown to the user).  \n",
    "\n",
    "Shiny ensures only the necessary calculations are done, making your app more efficient.  \n",
    "\n",
    "### **Why Are Reactive Expressions Important?**  \n",
    "1. **Efficiency** – They prevent unnecessary recalculations, making apps faster.  \n",
    "2. **Organized** – They help manage dependencies and make the app easier to understand.\n",
    "\n",
    "###  **A More Complex Example**  \n",
    "Next, we will define some simple functions that will help build a more complex Shiny app.\n",
    "\n"
   ]
  },
  {
   "cell_type": "markdown",
   "id": "1afaa74e-f638-4ba9-b716-2a7b94781bb9",
   "metadata": {},
   "source": [
    "## 3.4.1 The Motivation  \n",
    "\n",
    "Imagine you want to **compare two simulated datasets** using:  \n",
    "1. A **plot** to visualize their distributions.  \n",
    "2. A **hypothesis test** to compare their means.  \n",
    "\n",
    "After some experimentation, we create two helper functions:  \n",
    "\n",
    "- `freqpoly()` → Visualizes the two distributions using **frequency polygons**.  \n",
    "- `t_test()` → Performs a **t-test** to compare means and returns a summary string.  \n",
    "\n",
    "These functions will form the foundation of our Shiny app, where we’ll use **reactive expressions** to make the app more efficient and structured.  \n"
   ]
  },
  {
   "cell_type": "code",
   "execution_count": 2,
   "id": "18a92a09-9f07-4db6-ae28-c674c8475b14",
   "metadata": {},
   "outputs": [],
   "source": [
    "library(ggplot2)\n",
    "\n",
    "freqpoly <- function(x1, x2, binwidth = 0.1, xlim = c(-3, 3)) {\n",
    "  df <- data.frame(\n",
    "    x = c(x1, x2),\n",
    "    g = c(rep(\"x1\", length(x1)), rep(\"x2\", length(x2)))\n",
    "  )\n",
    "\n",
    "  ggplot(df, aes(x, colour = g)) +\n",
    "    geom_freqpoly(binwidth = binwidth, size = 1) +\n",
    "    coord_cartesian(xlim = xlim)\n",
    "}\n",
    "\n",
    "t_test <- function(x1, x2) {\n",
    "  test <- t.test(x1, x2)\n",
    "\n",
    "  # use sprintf() to format t.test() results compactly\n",
    "  sprintf(\n",
    "    \"p value: %0.3f\\n[%0.2f, %0.2f]\",\n",
    "    test$p.value, test$conf.int[1], test$conf.int[2]\n",
    "  )\n",
    "}"
   ]
  },
  {
   "cell_type": "markdown",
   "id": "4061805f-73d0-456a-8840-4d3911f10d6d",
   "metadata": {},
   "source": [
    "If I have some simulated data, I can use these functions to compare two variables:"
   ]
  },
  {
   "cell_type": "code",
   "execution_count": 3,
   "id": "ef093e20-a84b-48f2-a68f-f05e8a84f8e7",
   "metadata": {},
   "outputs": [
    {
     "name": "stderr",
     "output_type": "stream",
     "text": [
      "Warning message:\n",
      "“\u001b[1m\u001b[22mUsing `size` aesthetic for lines was deprecated in ggplot2 3.4.0.\n",
      "\u001b[36mℹ\u001b[39m Please use `linewidth` instead.”\n"
     ]
    },
    {
     "name": "stdout",
     "output_type": "stream",
     "text": [
      "p value: 0.001\n",
      "[-0.42, -0.10]"
     ]
    },
    {
     "data": {
      "application/pdf": "[encoded data removed]",
      "image/jpeg": "[encoded data removed]",
      "image/png": "[encoded data removed]",
      "image/svg+xml": [
       "<?xml version=\"1.0\" encoding=\"UTF-8\"?>\n",
       "<svg xmlns=\"http://www.w3.org/2000/svg\" xmlns:xlink=\"http://www.w3.org/1999/xlink\" width=\"504\" height=\"504\" viewBox=\"0 0 504 504\">\n",
       "<defs>\n",
       "<g>\n",
       "<g id=\"glyph-0-0\">\n",
       "<path d=\"M 4.546875 -3.03125 C 4.546875 -2.019531 4.367188 -1.25 4.015625 -0.71875 C 3.660156 -0.1875 3.132812 0.078125 2.4375 0.078125 C 1.738281 0.078125 1.210938 -0.179688 0.859375 -0.703125 C 0.515625 -1.234375 0.34375 -2.007812 0.34375 -3.03125 C 0.34375 -4.070312 0.507812 -4.847656 0.84375 -5.359375 C 1.1875 -5.878906 1.726562 -6.140625 2.46875 -6.140625 C 3.175781 -6.140625 3.695312 -5.875 4.03125 -5.34375 C 4.375 -4.820312 4.546875 -4.050781 4.546875 -3.03125 Z M 3.765625 -3.03125 C 3.765625 -3.90625 3.660156 -4.535156 3.453125 -4.921875 C 3.253906 -5.316406 2.925781 -5.515625 2.46875 -5.515625 C 1.988281 -5.515625 1.644531 -5.320312 1.4375 -4.9375 C 1.226562 -4.550781 1.125 -3.914062 1.125 -3.03125 C 1.125 -2.164062 1.226562 -1.535156 1.4375 -1.140625 C 1.644531 -0.742188 1.976562 -0.546875 2.4375 -0.546875 C 2.894531 -0.546875 3.226562 -0.75 3.4375 -1.15625 C 3.65625 -1.5625 3.765625 -2.1875 3.765625 -3.03125 Z M 3.765625 -3.03125 \"/>\n",
       "</g>\n",
       "<g id=\"glyph-0-1\">\n",
       "<path d=\"M 4.515625 -1.96875 C 4.515625 -1.332031 4.328125 -0.832031 3.953125 -0.46875 C 3.578125 -0.101562 3.050781 0.078125 2.375 0.078125 C 1.8125 0.078125 1.351562 -0.0390625 1 -0.28125 C 0.65625 -0.53125 0.441406 -0.890625 0.359375 -1.359375 L 1.140625 -1.4375 C 1.296875 -0.84375 1.710938 -0.546875 2.390625 -0.546875 C 2.804688 -0.546875 3.128906 -0.671875 3.359375 -0.921875 C 3.597656 -1.171875 3.71875 -1.515625 3.71875 -1.953125 C 3.71875 -2.335938 3.597656 -2.644531 3.359375 -2.875 C 3.128906 -3.113281 2.8125 -3.234375 2.40625 -3.234375 C 2.195312 -3.234375 2.003906 -3.195312 1.828125 -3.125 C 1.648438 -3.0625 1.46875 -2.953125 1.28125 -2.796875 L 0.53125 -2.796875 L 0.734375 -6.046875 L 4.171875 -6.046875 L 4.171875 -5.390625 L 1.4375 -5.390625 L 1.3125 -3.46875 C 1.65625 -3.726562 2.070312 -3.859375 2.5625 -3.859375 C 3.164062 -3.859375 3.640625 -3.679688 3.984375 -3.328125 C 4.335938 -2.984375 4.515625 -2.53125 4.515625 -1.96875 Z M 4.515625 -1.96875 \"/>\n",
       "</g>\n",
       "<g id=\"glyph-0-2\">\n",
       "<path d=\"M 0.671875 0 L 0.671875 -0.65625 L 2.21875 -0.65625 L 2.21875 -5.3125 L 0.84375 -4.34375 L 0.84375 -5.0625 L 2.28125 -6.046875 L 2.984375 -6.046875 L 2.984375 -0.65625 L 4.46875 -0.65625 L 4.46875 0 Z M 0.671875 0 \"/>\n",
       "</g>\n",
       "<g id=\"glyph-0-3\">\n",
       "<path d=\"M 0.390625 -2 L 0.390625 -2.6875 L 2.53125 -2.6875 L 2.53125 -2 Z M 0.390625 -2 \"/>\n",
       "</g>\n",
       "<g id=\"glyph-0-4\">\n",
       "<path d=\"M 0.4375 0 L 0.4375 -0.546875 C 0.582031 -0.878906 0.757812 -1.171875 0.96875 -1.421875 C 1.1875 -1.679688 1.410156 -1.914062 1.640625 -2.125 C 1.867188 -2.332031 2.097656 -2.523438 2.328125 -2.703125 C 2.554688 -2.878906 2.757812 -3.054688 2.9375 -3.234375 C 3.125 -3.410156 3.273438 -3.597656 3.390625 -3.796875 C 3.503906 -3.992188 3.5625 -4.210938 3.5625 -4.453125 C 3.5625 -4.785156 3.460938 -5.039062 3.265625 -5.21875 C 3.078125 -5.40625 2.804688 -5.5 2.453125 -5.5 C 2.128906 -5.5 1.859375 -5.410156 1.640625 -5.234375 C 1.429688 -5.054688 1.304688 -4.804688 1.265625 -4.484375 L 0.484375 -4.5625 C 0.535156 -5.039062 0.738281 -5.421875 1.09375 -5.703125 C 1.445312 -5.992188 1.898438 -6.140625 2.453125 -6.140625 C 3.066406 -6.140625 3.535156 -5.992188 3.859375 -5.703125 C 4.191406 -5.421875 4.359375 -5.015625 4.359375 -4.484375 C 4.359375 -4.242188 4.300781 -4.007812 4.1875 -3.78125 C 4.082031 -3.550781 3.921875 -3.316406 3.703125 -3.078125 C 3.492188 -2.847656 3.09375 -2.492188 2.5 -2.015625 C 2.164062 -1.742188 1.898438 -1.5 1.703125 -1.28125 C 1.515625 -1.0625 1.378906 -0.851562 1.296875 -0.65625 L 4.453125 -0.65625 L 4.453125 0 Z M 0.4375 0 \"/>\n",
       "</g>\n",
       "<g id=\"glyph-0-5\">\n",
       "<path d=\"M 3.4375 0 L 2.1875 -1.90625 L 0.9375 0 L 0.09375 0 L 1.75 -2.390625 L 0.171875 -4.640625 L 1.03125 -4.640625 L 2.1875 -2.84375 L 3.34375 -4.640625 L 4.203125 -4.640625 L 2.625 -2.390625 L 4.296875 0 Z M 3.4375 0 \"/>\n",
       "</g>\n",
       "<g id=\"glyph-1-0\">\n",
       "<path d=\"M 4.296875 0 L 2.734375 -2.390625 L 1.171875 0 L 0.125 0 L 2.1875 -2.984375 L 0.21875 -5.8125 L 1.296875 -5.8125 L 2.734375 -3.546875 L 4.171875 -5.8125 L 5.265625 -5.8125 L 3.28125 -3 L 5.375 0 Z M 4.296875 0 \"/>\n",
       "</g>\n",
       "<g id=\"glyph-1-1\">\n",
       "<path d=\"M 2.9375 2.28125 C 2.3125 2.28125 1.804688 2.15625 1.421875 1.90625 C 1.046875 1.65625 0.804688 1.300781 0.703125 0.84375 L 1.671875 0.703125 C 1.734375 0.972656 1.875 1.179688 2.09375 1.328125 C 2.320312 1.472656 2.613281 1.546875 2.96875 1.546875 C 3.9375 1.546875 4.421875 0.984375 4.421875 -0.140625 L 4.421875 -1.078125 L 4.40625 -1.078125 C 4.21875 -0.703125 3.960938 -0.421875 3.640625 -0.234375 C 3.328125 -0.046875 2.957031 0.046875 2.53125 0.046875 C 1.820312 0.046875 1.300781 -0.1875 0.96875 -0.65625 C 0.632812 -1.132812 0.46875 -1.878906 0.46875 -2.890625 C 0.46875 -3.921875 0.644531 -4.679688 1 -5.171875 C 1.363281 -5.660156 1.910156 -5.90625 2.640625 -5.90625 C 3.054688 -5.90625 3.414062 -5.8125 3.71875 -5.625 C 4.019531 -5.4375 4.253906 -5.164062 4.421875 -4.8125 C 4.421875 -4.925781 4.425781 -5.113281 4.4375 -5.375 C 4.457031 -5.644531 4.472656 -5.789062 4.484375 -5.8125 L 5.40625 -5.8125 C 5.382812 -5.613281 5.375 -5.210938 5.375 -4.609375 L 5.375 -0.171875 C 5.375 1.460938 4.5625 2.28125 2.9375 2.28125 Z M 4.421875 -2.90625 C 4.421875 -3.375 4.351562 -3.78125 4.21875 -4.125 C 4.09375 -4.46875 3.910156 -4.726562 3.671875 -4.90625 C 3.441406 -5.09375 3.175781 -5.1875 2.875 -5.1875 C 2.382812 -5.1875 2.023438 -5.003906 1.796875 -4.640625 C 1.578125 -4.285156 1.46875 -3.707031 1.46875 -2.90625 C 1.46875 -2.113281 1.570312 -1.539062 1.78125 -1.1875 C 1.988281 -0.84375 2.347656 -0.671875 2.859375 -0.671875 C 3.160156 -0.671875 3.429688 -0.757812 3.671875 -0.9375 C 3.910156 -1.113281 4.09375 -1.367188 4.21875 -1.703125 C 4.351562 -2.046875 4.421875 -2.445312 4.421875 -2.90625 Z M 4.421875 -2.90625 \"/>\n",
       "</g>\n",
       "<g id=\"glyph-2-0\">\n",
       "<path d=\"M -2.9375 -1.484375 C -2.15625 -1.484375 -1.578125 -1.601562 -1.203125 -1.84375 C -0.835938 -2.082031 -0.65625 -2.445312 -0.65625 -2.9375 C -0.65625 -3.28125 -0.75 -3.566406 -0.9375 -3.796875 C -1.125 -4.035156 -1.410156 -4.179688 -1.796875 -4.234375 L -1.734375 -5.203125 C -1.171875 -5.128906 -0.722656 -4.890625 -0.390625 -4.484375 C -0.0546875 -4.085938 0.109375 -3.582031 0.109375 -2.96875 C 0.109375 -2.15625 -0.144531 -1.535156 -0.65625 -1.109375 C -1.175781 -0.679688 -1.925781 -0.46875 -2.90625 -0.46875 C -3.882812 -0.46875 -4.628906 -0.679688 -5.140625 -1.109375 C -5.660156 -1.535156 -5.921875 -2.148438 -5.921875 -2.953125 C -5.921875 -3.546875 -5.765625 -4.039062 -5.453125 -4.4375 C -5.148438 -4.832031 -4.726562 -5.078125 -4.1875 -5.171875 L -4.109375 -4.1875 C -4.429688 -4.132812 -4.6875 -4.003906 -4.875 -3.796875 C -5.0625 -3.597656 -5.15625 -3.3125 -5.15625 -2.9375 C -5.15625 -2.425781 -4.984375 -2.054688 -4.640625 -1.828125 C -4.304688 -1.597656 -3.738281 -1.484375 -2.9375 -1.484375 Z M -2.9375 -1.484375 \"/>\n",
       "</g>\n",
       "<g id=\"glyph-2-1\">\n",
       "<path d=\"M -2.90625 -5.65625 C -1.894531 -5.65625 -1.140625 -5.429688 -0.640625 -4.984375 C -0.140625 -4.535156 0.109375 -3.882812 0.109375 -3.03125 C 0.109375 -2.1875 -0.144531 -1.546875 -0.65625 -1.109375 C -1.175781 -0.679688 -1.925781 -0.46875 -2.90625 -0.46875 C -4.914062 -0.46875 -5.921875 -1.332031 -5.921875 -3.0625 C -5.921875 -3.957031 -5.675781 -4.613281 -5.1875 -5.03125 C -4.695312 -5.445312 -3.9375 -5.65625 -2.90625 -5.65625 Z M -2.90625 -4.640625 C -3.707031 -4.640625 -4.289062 -4.519531 -4.65625 -4.28125 C -5.019531 -4.039062 -5.203125 -3.640625 -5.203125 -3.078125 C -5.203125 -2.515625 -5.015625 -2.109375 -4.640625 -1.859375 C -4.273438 -1.609375 -3.695312 -1.484375 -2.90625 -1.484375 C -2.144531 -1.484375 -1.570312 -1.601562 -1.1875 -1.84375 C -0.800781 -2.09375 -0.609375 -2.488281 -0.609375 -3.03125 C -0.609375 -3.601562 -0.789062 -4.015625 -1.15625 -4.265625 C -1.53125 -4.515625 -2.113281 -4.640625 -2.90625 -4.640625 Z M -2.90625 -4.640625 \"/>\n",
       "</g>\n",
       "<g id=\"glyph-2-2\">\n",
       "<path d=\"M -5.8125 -1.6875 L -2.125 -1.6875 C -1.738281 -1.6875 -1.441406 -1.722656 -1.234375 -1.796875 C -1.023438 -1.867188 -0.875 -1.988281 -0.78125 -2.15625 C -0.6875 -2.320312 -0.640625 -2.566406 -0.640625 -2.890625 C -0.640625 -3.347656 -0.796875 -3.710938 -1.109375 -3.984375 C -1.429688 -4.253906 -1.875 -4.390625 -2.4375 -4.390625 L -5.8125 -4.390625 L -5.8125 -5.359375 L -1.234375 -5.359375 C -0.554688 -5.359375 -0.144531 -5.367188 0 -5.390625 L 0 -4.46875 C -0.0195312 -4.46875 -0.0664062 -4.460938 -0.140625 -4.453125 C -0.222656 -4.453125 -0.3125 -4.445312 -0.40625 -4.4375 C -0.507812 -4.4375 -0.707031 -4.4375 -1 -4.4375 L -1 -4.421875 C -0.59375 -4.191406 -0.304688 -3.929688 -0.140625 -3.640625 C 0.0234375 -3.347656 0.109375 -2.988281 0.109375 -2.5625 C 0.109375 -1.914062 -0.046875 -1.445312 -0.359375 -1.15625 C -0.679688 -0.863281 -1.207031 -0.71875 -1.9375 -0.71875 L -5.8125 -0.71875 Z M -5.8125 -1.6875 \"/>\n",
       "</g>\n",
       "<g id=\"glyph-2-3\">\n",
       "<path d=\"M 0 -4.4375 L -3.6875 -4.4375 C -4.070312 -4.4375 -4.367188 -4.394531 -4.578125 -4.3125 C -4.785156 -4.238281 -4.9375 -4.117188 -5.03125 -3.953125 C -5.125 -3.796875 -5.171875 -3.554688 -5.171875 -3.234375 C -5.171875 -2.765625 -5.007812 -2.394531 -4.6875 -2.125 C -4.375 -1.863281 -3.9375 -1.734375 -3.375 -1.734375 L 0 -1.734375 L 0 -0.765625 L -4.578125 -0.765625 C -5.253906 -0.765625 -5.664062 -0.753906 -5.8125 -0.734375 L -5.8125 -1.640625 C -5.789062 -1.648438 -5.738281 -1.65625 -5.65625 -1.65625 C -5.582031 -1.65625 -5.492188 -1.65625 -5.390625 -1.65625 C -5.296875 -1.664062 -5.101562 -1.675781 -4.8125 -1.6875 L -4.8125 -1.703125 C -5.21875 -1.921875 -5.503906 -2.175781 -5.671875 -2.46875 C -5.835938 -2.757812 -5.921875 -3.125 -5.921875 -3.5625 C -5.921875 -4.195312 -5.757812 -4.660156 -5.4375 -4.953125 C -5.125 -5.253906 -4.601562 -5.40625 -3.875 -5.40625 L 0 -5.40625 Z M 0 -4.4375 \"/>\n",
       "</g>\n",
       "<g id=\"glyph-2-4\">\n",
       "<path d=\"M -0.046875 -2.96875 C 0.046875 -2.65625 0.09375 -2.332031 0.09375 -2 C 0.09375 -1.226562 -0.347656 -0.84375 -1.234375 -0.84375 L -5.109375 -0.84375 L -5.109375 -0.171875 L -5.8125 -0.171875 L -5.8125 -0.875 L -7.109375 -1.15625 L -7.109375 -1.8125 L -5.8125 -1.8125 L -5.8125 -2.875 L -5.109375 -2.875 L -5.109375 -1.8125 L -1.4375 -1.8125 C -1.15625 -1.8125 -0.957031 -1.851562 -0.84375 -1.9375 C -0.738281 -2.03125 -0.6875 -2.191406 -0.6875 -2.421875 C -0.6875 -2.546875 -0.707031 -2.726562 -0.75 -2.96875 Z M -0.046875 -2.96875 \"/>\n",
       "</g>\n",
       "</g>\n",
       "<clipPath id=\"clip-0\">\n",
       "<path clip-rule=\"nonzero\" d=\"M 34.214844 5.480469 L 444.15625 5.480469 L 444.15625 470.847656 L 34.214844 470.847656 Z M 34.214844 5.480469 \"/>\n",
       "</clipPath>\n",
       "<clipPath id=\"clip-1\">\n",
       "<path clip-rule=\"nonzero\" d=\"M 34.214844 368 L 444.15625 368 L 444.15625 369 L 34.214844 369 Z M 34.214844 368 \"/>\n",
       "</clipPath>\n",
       "<clipPath id=\"clip-2\">\n",
       "<path clip-rule=\"nonzero\" d=\"M 34.214844 205 L 444.15625 205 L 444.15625 206 L 34.214844 206 Z M 34.214844 205 \"/>\n",
       "</clipPath>\n",
       "<clipPath id=\"clip-3\">\n",
       "<path clip-rule=\"nonzero\" d=\"M 34.214844 42 L 444.15625 42 L 444.15625 44 L 34.214844 44 Z M 34.214844 42 \"/>\n",
       "</clipPath>\n",
       "<clipPath id=\"clip-4\">\n",
       "<path clip-rule=\"nonzero\" d=\"M 52 5.480469 L 54 5.480469 L 54 470.847656 L 52 470.847656 Z M 52 5.480469 \"/>\n",
       "</clipPath>\n",
       "<clipPath id=\"clip-5\">\n",
       "<path clip-rule=\"nonzero\" d=\"M 176 5.480469 L 178 5.480469 L 178 470.847656 L 176 470.847656 Z M 176 5.480469 \"/>\n",
       "</clipPath>\n",
       "<clipPath id=\"clip-6\">\n",
       "<path clip-rule=\"nonzero\" d=\"M 301 5.480469 L 302 5.480469 L 302 470.847656 L 301 470.847656 Z M 301 5.480469 \"/>\n",
       "</clipPath>\n",
       "<clipPath id=\"clip-7\">\n",
       "<path clip-rule=\"nonzero\" d=\"M 425 5.480469 L 426 5.480469 L 426 470.847656 L 425 470.847656 Z M 425 5.480469 \"/>\n",
       "</clipPath>\n",
       "<clipPath id=\"clip-8\">\n",
       "<path clip-rule=\"nonzero\" d=\"M 34.214844 449 L 444.15625 449 L 444.15625 451 L 34.214844 451 Z M 34.214844 449 \"/>\n",
       "</clipPath>\n",
       "<clipPath id=\"clip-9\">\n",
       "<path clip-rule=\"nonzero\" d=\"M 34.214844 286 L 444.15625 286 L 444.15625 288 L 34.214844 288 Z M 34.214844 286 \"/>\n",
       "</clipPath>\n",
       "<clipPath id=\"clip-10\">\n",
       "<path clip-rule=\"nonzero\" d=\"M 34.214844 123 L 444.15625 123 L 444.15625 125 L 34.214844 125 Z M 34.214844 123 \"/>\n",
       "</clipPath>\n",
       "<clipPath id=\"clip-11\">\n",
       "<path clip-rule=\"nonzero\" d=\"M 114 5.480469 L 116 5.480469 L 116 470.847656 L 114 470.847656 Z M 114 5.480469 \"/>\n",
       "</clipPath>\n",
       "<clipPath id=\"clip-12\">\n",
       "<path clip-rule=\"nonzero\" d=\"M 238 5.480469 L 240 5.480469 L 240 470.847656 L 238 470.847656 Z M 238 5.480469 \"/>\n",
       "</clipPath>\n",
       "<clipPath id=\"clip-13\">\n",
       "<path clip-rule=\"nonzero\" d=\"M 362 5.480469 L 364 5.480469 L 364 470.847656 L 362 470.847656 Z M 362 5.480469 \"/>\n",
       "</clipPath>\n",
       "</defs>\n",
       "<rect x=\"-50.4\" y=\"-50.4\" width=\"604.8\" height=\"604.8\" fill=\"rgb(100%, 100%, 100%)\" fill-opacity=\"1\"/>\n",
       "<rect x=\"-50.4\" y=\"-50.4\" width=\"604.8\" height=\"604.8\" fill=\"rgb(100%, 100%, 100%)\" fill-opacity=\"1\"/>\n",
       "<path fill=\"none\" stroke-width=\"1.066978\" stroke-linecap=\"round\" stroke-linejoin=\"round\" stroke=\"rgb(100%, 100%, 100%)\" stroke-opacity=\"1\" stroke-miterlimit=\"10\" d=\"M 0 504 L 504 504 L 504 0 L 0 0 Z M 0 504 \"/>\n",
       "<g clip-path=\"url(#clip-0)\">\n",
       "<path fill-rule=\"nonzero\" fill=\"rgb(92.156863%, 92.156863%, 92.156863%)\" fill-opacity=\"1\" d=\"M 34.214844 470.847656 L 444.15625 470.847656 L 444.15625 5.480469 L 34.214844 5.480469 Z M 34.214844 470.847656 \"/>\n",
       "</g>\n",
       "<g clip-path=\"url(#clip-1)\">\n",
       "<path fill=\"none\" stroke-width=\"0.533489\" stroke-linecap=\"butt\" stroke-linejoin=\"round\" stroke=\"rgb(100%, 100%, 100%)\" stroke-opacity=\"1\" stroke-miterlimit=\"10\" d=\"M 34.214844 368.335938 L 444.15625 368.335938 \"/>\n",
       "</g>\n",
       "<g clip-path=\"url(#clip-2)\">\n",
       "<path fill=\"none\" stroke-width=\"0.533489\" stroke-linecap=\"butt\" stroke-linejoin=\"round\" stroke=\"rgb(100%, 100%, 100%)\" stroke-opacity=\"1\" stroke-miterlimit=\"10\" d=\"M 34.214844 205.621094 L 444.15625 205.621094 \"/>\n",
       "</g>\n",
       "<g clip-path=\"url(#clip-3)\">\n",
       "<path fill=\"none\" stroke-width=\"0.533489\" stroke-linecap=\"butt\" stroke-linejoin=\"round\" stroke=\"rgb(100%, 100%, 100%)\" stroke-opacity=\"1\" stroke-miterlimit=\"10\" d=\"M 34.214844 42.902344 L 444.15625 42.902344 \"/>\n",
       "</g>\n",
       "<g clip-path=\"url(#clip-4)\">\n",
       "<path fill=\"none\" stroke-width=\"0.533489\" stroke-linecap=\"butt\" stroke-linejoin=\"round\" stroke=\"rgb(100%, 100%, 100%)\" stroke-opacity=\"1\" stroke-miterlimit=\"10\" d=\"M 52.847656 470.847656 L 52.847656 5.480469 \"/>\n",
       "</g>\n",
       "<g clip-path=\"url(#clip-5)\">\n",
       "<path fill=\"none\" stroke-width=\"0.533489\" stroke-linecap=\"butt\" stroke-linejoin=\"round\" stroke=\"rgb(100%, 100%, 100%)\" stroke-opacity=\"1\" stroke-miterlimit=\"10\" d=\"M 177.070312 470.847656 L 177.070312 5.480469 \"/>\n",
       "</g>\n",
       "<g clip-path=\"url(#clip-6)\">\n",
       "<path fill=\"none\" stroke-width=\"0.533489\" stroke-linecap=\"butt\" stroke-linejoin=\"round\" stroke=\"rgb(100%, 100%, 100%)\" stroke-opacity=\"1\" stroke-miterlimit=\"10\" d=\"M 301.296875 470.847656 L 301.296875 5.480469 \"/>\n",
       "</g>\n",
       "<g clip-path=\"url(#clip-7)\">\n",
       "<path fill=\"none\" stroke-width=\"0.533489\" stroke-linecap=\"butt\" stroke-linejoin=\"round\" stroke=\"rgb(100%, 100%, 100%)\" stroke-opacity=\"1\" stroke-miterlimit=\"10\" d=\"M 425.523438 470.847656 L 425.523438 5.480469 \"/>\n",
       "</g>\n",
       "<g clip-path=\"url(#clip-8)\">\n",
       "<path fill=\"none\" stroke-width=\"1.066978\" stroke-linecap=\"butt\" stroke-linejoin=\"round\" stroke=\"rgb(100%, 100%, 100%)\" stroke-opacity=\"1\" stroke-miterlimit=\"10\" d=\"M 34.214844 449.691406 L 444.15625 449.691406 \"/>\n",
       "</g>\n",
       "<g clip-path=\"url(#clip-9)\">\n",
       "<path fill=\"none\" stroke-width=\"1.066978\" stroke-linecap=\"butt\" stroke-linejoin=\"round\" stroke=\"rgb(100%, 100%, 100%)\" stroke-opacity=\"1\" stroke-miterlimit=\"10\" d=\"M 34.214844 286.976562 L 444.15625 286.976562 \"/>\n",
       "</g>\n",
       "<g clip-path=\"url(#clip-10)\">\n",
       "<path fill=\"none\" stroke-width=\"1.066978\" stroke-linecap=\"butt\" stroke-linejoin=\"round\" stroke=\"rgb(100%, 100%, 100%)\" stroke-opacity=\"1\" stroke-miterlimit=\"10\" d=\"M 34.214844 124.261719 L 444.15625 124.261719 \"/>\n",
       "</g>\n",
       "<g clip-path=\"url(#clip-11)\">\n",
       "<path fill=\"none\" stroke-width=\"1.066978\" stroke-linecap=\"butt\" stroke-linejoin=\"round\" stroke=\"rgb(100%, 100%, 100%)\" stroke-opacity=\"1\" stroke-miterlimit=\"10\" d=\"M 114.960938 470.847656 L 114.960938 5.480469 \"/>\n",
       "</g>\n",
       "<g clip-path=\"url(#clip-12)\">\n",
       "<path fill=\"none\" stroke-width=\"1.066978\" stroke-linecap=\"butt\" stroke-linejoin=\"round\" stroke=\"rgb(100%, 100%, 100%)\" stroke-opacity=\"1\" stroke-miterlimit=\"10\" d=\"M 239.183594 470.847656 L 239.183594 5.480469 \"/>\n",
       "</g>\n",
       "<g clip-path=\"url(#clip-13)\">\n",
       "<path fill=\"none\" stroke-width=\"1.066978\" stroke-linecap=\"butt\" stroke-linejoin=\"round\" stroke=\"rgb(100%, 100%, 100%)\" stroke-opacity=\"1\" stroke-miterlimit=\"10\" d=\"M 363.410156 470.847656 L 363.410156 5.480469 \"/>\n",
       "</g>\n",
       "<path fill=\"none\" stroke-width=\"2.133957\" stroke-linecap=\"butt\" stroke-linejoin=\"round\" stroke=\"rgb(97.254902%, 46.27451%, 42.745098%)\" stroke-opacity=\"1\" stroke-miterlimit=\"10\" d=\"M 121.171875 449.691406 L 158.4375 449.691406 L 164.648438 417.148438 L 170.859375 449.691406 L 177.070312 417.148438 L 183.285156 417.148438 L 189.496094 352.0625 L 195.707031 319.519531 L 208.128906 189.347656 L 214.339844 254.433594 L 220.550781 286.976562 L 226.761719 352.0625 L 232.972656 26.632812 L 239.183594 124.261719 L 245.394531 352.0625 L 251.605469 221.890625 L 257.816406 124.261719 L 264.03125 254.433594 L 270.242188 449.691406 L 276.453125 319.519531 L 301.296875 449.691406 L 307.507812 417.148438 L 313.71875 417.148438 L 319.929688 449.691406 L 326.140625 417.148438 L 332.351562 449.691406 L 388.253906 449.691406 \"/>\n",
       "<path fill=\"none\" stroke-width=\"2.133957\" stroke-linecap=\"butt\" stroke-linejoin=\"round\" stroke=\"rgb(0%, 74.901961%, 76.862745%)\" stroke-opacity=\"1\" stroke-miterlimit=\"10\" d=\"M 121.171875 449.691406 L 127.382812 417.148438 L 133.59375 417.148438 L 139.804688 384.605469 L 146.015625 384.605469 L 152.226562 449.691406 L 158.4375 384.605469 L 164.648438 384.605469 L 170.859375 319.519531 L 177.070312 221.890625 L 183.285156 352.0625 L 189.496094 352.0625 L 195.707031 254.433594 L 201.917969 221.890625 L 208.128906 156.804688 L 214.339844 124.261719 L 220.550781 286.976562 L 226.761719 156.804688 L 232.972656 286.976562 L 239.183594 221.890625 L 245.394531 91.71875 L 251.605469 221.890625 L 257.816406 189.347656 L 264.03125 221.890625 L 270.242188 91.71875 L 276.453125 91.71875 L 282.664062 221.890625 L 288.875 286.976562 L 295.085938 254.433594 L 307.507812 319.519531 L 313.71875 384.605469 L 332.351562 189.347656 L 338.566406 384.605469 L 344.777344 384.605469 L 350.988281 417.148438 L 357.199219 417.148438 L 363.410156 384.605469 L 369.621094 417.148438 L 375.832031 384.605469 L 382.042969 384.605469 L 388.253906 449.691406 \"/>\n",
       "<g fill=\"rgb(30.196078%, 30.196078%, 30.196078%)\" fill-opacity=\"1\">\n",
       "<use xlink:href=\"#glyph-0-0\" x=\"24.28125\" y=\"453.157227\"/>\n",
       "</g>\n",
       "<g fill=\"rgb(30.196078%, 30.196078%, 30.196078%)\" fill-opacity=\"1\">\n",
       "<use xlink:href=\"#glyph-0-1\" x=\"24.28125\" y=\"290.442383\"/>\n",
       "</g>\n",
       "<g fill=\"rgb(30.196078%, 30.196078%, 30.196078%)\" fill-opacity=\"1\">\n",
       "<use xlink:href=\"#glyph-0-2\" x=\"19.28125\" y=\"127.727539\"/>\n",
       "<use xlink:href=\"#glyph-0-0\" x=\"24.28125\" y=\"127.727539\"/>\n",
       "</g>\n",
       "<path fill=\"none\" stroke-width=\"1.066978\" stroke-linecap=\"butt\" stroke-linejoin=\"round\" stroke=\"rgb(20%, 20%, 20%)\" stroke-opacity=\"1\" stroke-miterlimit=\"10\" d=\"M 31.472656 449.691406 L 34.214844 449.691406 \"/>\n",
       "<path fill=\"none\" stroke-width=\"1.066978\" stroke-linecap=\"butt\" stroke-linejoin=\"round\" stroke=\"rgb(20%, 20%, 20%)\" stroke-opacity=\"1\" stroke-miterlimit=\"10\" d=\"M 31.472656 286.976562 L 34.214844 286.976562 \"/>\n",
       "<path fill=\"none\" stroke-width=\"1.066978\" stroke-linecap=\"butt\" stroke-linejoin=\"round\" stroke=\"rgb(20%, 20%, 20%)\" stroke-opacity=\"1\" stroke-miterlimit=\"10\" d=\"M 31.472656 124.261719 L 34.214844 124.261719 \"/>\n",
       "<path fill=\"none\" stroke-width=\"1.066978\" stroke-linecap=\"butt\" stroke-linejoin=\"round\" stroke=\"rgb(20%, 20%, 20%)\" stroke-opacity=\"1\" stroke-miterlimit=\"10\" d=\"M 114.960938 473.585938 L 114.960938 470.847656 \"/>\n",
       "<path fill=\"none\" stroke-width=\"1.066978\" stroke-linecap=\"butt\" stroke-linejoin=\"round\" stroke=\"rgb(20%, 20%, 20%)\" stroke-opacity=\"1\" stroke-miterlimit=\"10\" d=\"M 239.183594 473.585938 L 239.183594 470.847656 \"/>\n",
       "<path fill=\"none\" stroke-width=\"1.066978\" stroke-linecap=\"butt\" stroke-linejoin=\"round\" stroke=\"rgb(20%, 20%, 20%)\" stroke-opacity=\"1\" stroke-miterlimit=\"10\" d=\"M 363.410156 473.585938 L 363.410156 470.847656 \"/>\n",
       "<g fill=\"rgb(30.196078%, 30.196078%, 30.196078%)\" fill-opacity=\"1\">\n",
       "<use xlink:href=\"#glyph-0-3\" x=\"110.960938\" y=\"482.743164\"/>\n",
       "<use xlink:href=\"#glyph-0-4\" x=\"113.960938\" y=\"482.743164\"/>\n",
       "</g>\n",
       "<g fill=\"rgb(30.196078%, 30.196078%, 30.196078%)\" fill-opacity=\"1\">\n",
       "<use xlink:href=\"#glyph-0-0\" x=\"236.683594\" y=\"482.743164\"/>\n",
       "</g>\n",
       "<g fill=\"rgb(30.196078%, 30.196078%, 30.196078%)\" fill-opacity=\"1\">\n",
       "<use xlink:href=\"#glyph-0-4\" x=\"360.910156\" y=\"482.743164\"/>\n",
       "</g>\n",
       "<g fill=\"rgb(0%, 0%, 0%)\" fill-opacity=\"1\">\n",
       "<use xlink:href=\"#glyph-1-0\" x=\"236.183594\" y=\"495.477539\"/>\n",
       "</g>\n",
       "<g fill=\"rgb(0%, 0%, 0%)\" fill-opacity=\"1\">\n",
       "<use xlink:href=\"#glyph-2-0\" x=\"13.438477\" y=\"251.664062\"/>\n",
       "<use xlink:href=\"#glyph-2-1\" x=\"13.438477\" y=\"245.664062\"/>\n",
       "<use xlink:href=\"#glyph-2-2\" x=\"13.438477\" y=\"239.664062\"/>\n",
       "<use xlink:href=\"#glyph-2-3\" x=\"13.438477\" y=\"233.664062\"/>\n",
       "<use xlink:href=\"#glyph-2-4\" x=\"13.438477\" y=\"227.664062\"/>\n",
       "</g>\n",
       "<path fill-rule=\"nonzero\" fill=\"rgb(100%, 100%, 100%)\" fill-opacity=\"1\" d=\"M 455.113281 269.160156 L 498.519531 269.160156 L 498.519531 207.160156 L 455.113281 207.160156 Z M 455.113281 269.160156 \"/>\n",
       "<g fill=\"rgb(0%, 0%, 0%)\" fill-opacity=\"1\">\n",
       "<use xlink:href=\"#glyph-1-1\" x=\"460.59375\" y=\"222.102539\"/>\n",
       "</g>\n",
       "<path fill-rule=\"nonzero\" fill=\"rgb(92.156863%, 92.156863%, 92.156863%)\" fill-opacity=\"1\" d=\"M 460.59375 246.402344 L 477.875 246.402344 L 477.875 229.121094 L 460.59375 229.121094 Z M 460.59375 246.402344 \"/>\n",
       "<path fill=\"none\" stroke-width=\"2.133957\" stroke-linecap=\"butt\" stroke-linejoin=\"round\" stroke=\"rgb(97.254902%, 46.27451%, 42.745098%)\" stroke-opacity=\"1\" stroke-miterlimit=\"10\" d=\"M 462.320312 237.761719 L 476.144531 237.761719 \"/>\n",
       "<path fill-rule=\"nonzero\" fill=\"rgb(92.156863%, 92.156863%, 92.156863%)\" fill-opacity=\"1\" d=\"M 460.59375 263.683594 L 477.875 263.683594 L 477.875 246.402344 L 460.59375 246.402344 Z M 460.59375 263.683594 \"/>\n",
       "<path fill=\"none\" stroke-width=\"2.133957\" stroke-linecap=\"butt\" stroke-linejoin=\"round\" stroke=\"rgb(0%, 74.901961%, 76.862745%)\" stroke-opacity=\"1\" stroke-miterlimit=\"10\" d=\"M 462.320312 255.042969 L 476.144531 255.042969 \"/>\n",
       "<g fill=\"rgb(0%, 0%, 0%)\" fill-opacity=\"1\">\n",
       "<use xlink:href=\"#glyph-0-5\" x=\"483.355469\" y=\"241.227539\"/>\n",
       "<use xlink:href=\"#glyph-0-2\" x=\"487.355469\" y=\"241.227539\"/>\n",
       "</g>\n",
       "<g fill=\"rgb(0%, 0%, 0%)\" fill-opacity=\"1\">\n",
       "<use xlink:href=\"#glyph-0-5\" x=\"483.355469\" y=\"258.508789\"/>\n",
       "<use xlink:href=\"#glyph-0-4\" x=\"487.355469\" y=\"258.508789\"/>\n",
       "</g>\n",
       "</svg>\n"
      ],
      "text/plain": [
       "plot without title"
      ]
     },
     "metadata": {
      "application/pdf": {
       "height": 420,
       "width": 420
      },
      "image/jpeg": {
       "height": 420,
       "width": 420
      },
      "image/png": {
       "height": 420,
       "width": 420
      },
      "image/svg+xml": {
       "height": 420,
       "isolated": true,
       "width": 420
      }
     },
     "output_type": "display_data"
    }
   ],
   "source": [
    "x1 <- rnorm(100, mean = 0, sd = 0.5)\n",
    "x2 <- rnorm(200, mean = 0.15, sd = 0.9)\n",
    "\n",
    "freqpoly(x1, x2)\n",
    "#> Warning: Using `size` aesthetic for lines was deprecated in ggplot2 3.4.0.\n",
    "#> ℹ Please use `linewidth` instead.\n",
    "#> This warning is displayed once every 8 hours.\n",
    "#> Call `lifecycle::last_lifecycle_warnings()` to see where this warning was\n",
    "#> generated.\n",
    "cat(t_test(x1, x2))\n",
    "#> p value: 0.386\n",
    "#> [-0.24, 0.09]"
   ]
  },
  {
   "cell_type": "markdown",
   "id": "27a927e8-2ba2-428b-9430-c1059901fa39",
   "metadata": {},
   "source": [
    "## 3.4.2 The App  \n",
    "\n",
    "To efficiently explore multiple simulations, a **Shiny app** is ideal—it allows interactive adjustments **without** manually modifying and re-running R code.  \n",
    "\n",
    "### **UI Structure**  \n",
    "The app layout consists of:  \n",
    "1. **First row** → Three columns for input controls:  \n",
    "   - Distribution 1  \n",
    "   - Distribution 2  \n",
    "   - Plot controls  \n",
    "2. **Second row** →  \n",
    "   - A **wide column** for the plot.  \n",
    "   - A **narrow column** for the hypothesis test results.  \n",
    "\n",
    "The layout uses **`fluidRow`** and **`column(n)`** functions to organize the UI elements:\n",
    "\n",
    "- **`fluidRow`** is used to define a row that can hold multiple columns.  \n",
    "- **`column(n)`** is used within a `fluidRow` to define columns that take up a specified width (out of 12 total units).  \n",
    "\n",
    "By structuring the app this way, we can easily adjust input parameters and observe changes in real time.  \n",
    "\n"
   ]
  },
  {
   "cell_type": "code",
   "execution_count": 4,
   "id": "de6741aa-2dd9-4955-a0d0-55c997127c27",
   "metadata": {},
   "outputs": [],
   "source": [
    "ui <- fluidPage(\n",
    "  fluidRow(\n",
    "    column(4,\n",
    "      \"Distribution 1\",\n",
    "      numericInput(\"n1\", label = \"n\", value = 1000, min = 1),\n",
    "      numericInput(\"mean1\", label = \"µ\", value = 0, step = 0.1),\n",
    "      numericInput(\"sd1\", label = \"σ\", value = 0.5, min = 0.1, step = 0.1)\n",
    "    ),\n",
    "    column(4,\n",
    "      \"Distribution 2\",\n",
    "      numericInput(\"n2\", label = \"n\", value = 1000, min = 1),\n",
    "      numericInput(\"mean2\", label = \"µ\", value = 0, step = 0.1),\n",
    "      numericInput(\"sd2\", label = \"σ\", value = 0.5, min = 0.1, step = 0.1)\n",
    "    ),\n",
    "    column(4,\n",
    "      \"Frequency polygon\",\n",
    "      numericInput(\"binwidth\", label = \"Bin width\", value = 0.1, step = 0.1),\n",
    "      sliderInput(\"range\", label = \"range\", value = c(-3, 3), min = -5, max = 5)\n",
    "    )\n",
    "  ),\n",
    "  fluidRow(\n",
    "    column(9, plotOutput(\"hist\")),\n",
    "    column(3, verbatimTextOutput(\"ttest\"))\n",
    "  )\n",
    ")"
   ]
  },
  {
   "cell_type": "markdown",
   "id": "311d9f24-586a-4ed2-9a71-9bf938d38a4e",
   "metadata": {},
   "source": [
    "The server function combines calls to `freqpoly()` and `t_test()` functions after drawing from the specified distributions:"
   ]
  },
  {
   "cell_type": "code",
   "execution_count": 5,
   "id": "d6229f45-cab0-4b7d-a1ce-d74533e719e6",
   "metadata": {},
   "outputs": [],
   "source": [
    "server <- function(input, output, session) {\n",
    "  output$hist <- renderPlot({\n",
    "    x1 <- rnorm(input$n1, input$mean1, input$sd1)\n",
    "    x2 <- rnorm(input$n2, input$mean2, input$sd2)\n",
    "\n",
    "    freqpoly(x1, x2, binwidth = input$binwidth, xlim = input$range)\n",
    "  }, res = 96)\n",
    "\n",
    "  output$ttest <- renderText({\n",
    "    x1 <- rnorm(input$n1, input$mean1, input$sd1)\n",
    "    x2 <- rnorm(input$n2, input$mean2, input$sd2)\n",
    "\n",
    "    t_test(x1, x2)\n",
    "  })\n",
    "}"
   ]
  },
  {
   "cell_type": "markdown",
   "id": "e57b439a-6b50-4ad7-a7e8-de2552ee4fc4",
   "metadata": {},
   "source": [
    "## 3.5 Controlling Timing of Evaluation  \n",
    "\n",
    "In this section, we’ll explore **two advanced techniques** to **control how often** a reactive expression runs—either **increasing** or **decreasing** its execution frequency.  \n",
    "\n",
    "\n",
    "### **Simplifying the Simulation App**  \n",
    "To focus on timing control, we simplify the previous app:  \n",
    "- Use a **single-parameter** distribution.  \n",
    "- Force both samples to share the same **n**.  \n",
    "- Remove **plot controls** to reduce complexity.  \n",
    "\n",
    "This results in a **smaller UI** and **simpler server function**, making it easier to understand the key concepts of timing control in Shiny.  "
   ]
  },
  {
   "cell_type": "code",
   "execution_count": 6,
   "id": "9816f386-db88-4e2a-afee-563a31a16a3d",
   "metadata": {},
   "outputs": [],
   "source": [
    "ui <- fluidPage(\n",
    "  fluidRow(\n",
    "    column(3,\n",
    "      numericInput(\"lambda1\", label = \"lambda1\", value = 3),\n",
    "      numericInput(\"lambda2\", label = \"lambda2\", value = 5),\n",
    "      numericInput(\"n\", label = \"n\", value = 1e4, min = 0)\n",
    "    ),\n",
    "    column(9, plotOutput(\"hist\"))\n",
    "  )\n",
    ")\n",
    "server <- function(input, output, session) {\n",
    "  x1 <- reactive(rpois(input$n, input$lambda1))\n",
    "  x2 <- reactive(rpois(input$n, input$lambda2))\n",
    "  output$hist <- renderPlot({\n",
    "    freqpoly(x1(), x2(), binwidth = 1, xlim = c(0, 40))\n",
    "  }, res = 96)\n",
    "}"
   ]
  },
  {
   "cell_type": "markdown",
   "id": "2b3e6ab3-c4c4-42b1-a1ac-110353ca3931",
   "metadata": {},
   "source": [
    "In this example, instead of manually recalculating the values each time the inputs change, reactive expressions allow the app to automatically re-evaluate and update the outputs when the inputs (`n`, `lambda1`, `lambda2`) change. This makes the app more efficient and dynamic."
   ]
  },
  {
   "cell_type": "markdown",
   "id": "d7237468-8b3e-424a-977a-6c77c94fa9c2",
   "metadata": {},
   "source": [
    "## 3.5.1 Timed Invalidation  \n",
    "\n",
    "Imagine you want to **animate** the plot by constantly resimulating the data. This would help reinforce that you’re working with **simulated data**. To achieve this, we can **increase the frequency** of updates using a special function: **`reactiveTimer()`**.  \n",
    "\n",
    "### **How `reactiveTimer()` Works**  \n",
    "`reactiveTimer()` is a **reactive expression** that depends on a hidden input: the **current time**. It allows a reactive expression to **invalidate** and **recalculate** itself more frequently than usual.  \n",
    "\n",
    "For example, the following code sets an interval of **500 ms**, meaning the plot will update twice every second:\n"
   ]
  },
  {
   "cell_type": "code",
   "execution_count": 7,
   "id": "93ace549-664c-463d-9643-c907591e61e4",
   "metadata": {},
   "outputs": [],
   "source": [
    "server <- function(input, output, session) {\n",
    "  timer <- reactiveTimer(500)\n",
    "\n",
    "  x1 <- reactive({\n",
    "    timer()\n",
    "    rpois(input$n, input$lambda1)\n",
    "  })\n",
    "  x2 <- reactive({\n",
    "    timer()\n",
    "    rpois(input$n, input$lambda2)\n",
    "  })\n",
    "\n",
    "  output$hist <- renderPlot({\n",
    "    freqpoly(x1(), x2(), binwidth = 1, xlim = c(0, 40))\n",
    "  }, res = 96)\n",
    "}"
   ]
  },
  {
   "cell_type": "markdown",
   "id": "ae705715-bfce-449d-a06a-3676b779490a",
   "metadata": {},
   "source": [
    "### **Summary**  \n",
    "**`reactiveTimer()`** is used to create frequent updates by invalidating a reactive expression based on time. It’s useful for animations or continuously updating data in Shiny apps.\n"
   ]
  },
  {
   "cell_type": "markdown",
   "id": "17167b0f-77cb-45da-9130-0dcf1097bc88",
   "metadata": {},
   "source": [
    "## 3.5.2 On Click  \n",
    "\n",
    "In the previous scenario, consider what would happen if the **simulation** took **1 second** to run. Since we’re performing the simulation every **0.5 seconds**, Shiny would continuously accumulate tasks, resulting in a **backlog**. This backlog would prevent Shiny from responding to new events, creating a poor **user experience**.  \n",
    "\n",
    "A similar problem can occur when users **click buttons rapidly** in your app, triggering expensive computations. Shiny might not be able to catch up, leading to delays and unresponsiveness.  \n",
    "\n",
    "### **Solution: Using `actionButton()`**  \n",
    "To prevent this issue, you can allow the user to **opt-in** to perform expensive calculations. Instead of automatically triggering computations, **require the user to click a button** to start the process. This approach controls when the computation happens and avoids creating unnecessary backlogs.  \n",
    "\n",
    "Here's an example using an `actionButton()` to trigger a simulation:\n"
   ]
  },
  {
   "cell_type": "code",
   "execution_count": 8,
   "id": "8850615c-4df7-4ff8-a046-0b42abe8a467",
   "metadata": {},
   "outputs": [],
   "source": [
    "ui <- fluidPage(\n",
    "  fluidRow(\n",
    "    column(3,\n",
    "      numericInput(\"lambda1\", label = \"lambda1\", value = 3),\n",
    "      numericInput(\"lambda2\", label = \"lambda2\", value = 5),\n",
    "      numericInput(\"n\", label = \"n\", value = 1e4, min = 0),\n",
    "      actionButton(\"simulate\", \"Simulate!\")\n",
    "    ),\n",
    "    column(9, plotOutput(\"hist\"))\n",
    "  )\n",
    ")"
   ]
  },
  {
   "cell_type": "code",
   "execution_count": 9,
   "id": "39c27526-4d80-455b-9203-b02abf6e156c",
   "metadata": {},
   "outputs": [],
   "source": [
    "server <- function(input, output, session) {\n",
    "  x1 <- reactive({\n",
    "    input$simulate\n",
    "    rpois(input$n, input$lambda1)\n",
    "  })\n",
    "  x2 <- reactive({\n",
    "    input$simulate\n",
    "    rpois(input$n, input$lambda2)\n",
    "  })\n",
    "  output$hist <- renderPlot({\n",
    "    freqpoly(x1(), x2(), binwidth = 1, xlim = c(0, 40))\n",
    "  }, res = 96)\n",
    "}"
   ]
  },
  {
   "cell_type": "markdown",
   "id": "e99c3896-c81e-4cc5-96bd-185d940ddf1a",
   "metadata": {},
   "source": [
    "## Solving the Problem with `eventReactive()`  \n",
    "\n",
    "The previous solution using `actionButton()` didn’t fully achieve our goal. Although it added a button to trigger the simulation, **x1()** and **x2()** still had dependencies on **lambda1**, **lambda2**, and **n**. This means they would **update automatically** when any of these inputs changed, which isn’t what we want. We want to **replace** the existing dependencies, not just add to them.\n",
    "\n",
    "### **Solution: Using `eventReactive()`**\n",
    "\n",
    "To achieve this, we can use **`eventReactive()`**. This function has two arguments:  \n",
    "\n",
    "1. The **first argument** specifies the input(s) that should trigger the computation.  \n",
    "2. The **second argument** specifies the computation to run when the event is triggered.  \n",
    "\n",
    "Using `eventReactive()`, we can ensure that **x1()** and **x2()** are only computed **when the \"simulate\" button is clicked**, and not when other inputs change.\n",
    "\n",
    "Here’s how to implement it:"
   ]
  },
  {
   "cell_type": "code",
   "execution_count": 10,
   "id": "3ad6c559-5797-4509-85b2-4423a2b42425",
   "metadata": {},
   "outputs": [],
   "source": [
    "server <- function(input, output, session) {\n",
    "  x1 <- eventReactive(input$simulate, {\n",
    "    rpois(input$n, input$lambda1)\n",
    "  })\n",
    "  x2 <- eventReactive(input$simulate, {\n",
    "    rpois(input$n, input$lambda2)\n",
    "  })\n",
    "\n",
    "  output$hist <- renderPlot({\n",
    "    freqpoly(x1(), x2(), binwidth = 1, xlim = c(0, 40))\n",
    "  }, res = 96)\n",
    "}"
   ]
  },
  {
   "cell_type": "code",
   "execution_count": null,
   "id": "06b653ba-ab55-4ae8-b53c-229b56c70b8a",
   "metadata": {},
   "outputs": [],
   "source": []
  }
 ],
 "metadata": {
  "kernelspec": {
   "display_name": "R",
   "language": "R",
   "name": "ir"
  },
  "language_info": {
   "codemirror_mode": "r",
   "file_extension": ".r",
   "mimetype": "text/x-r-source",
   "name": "R",
   "pygments_lexer": "r",
   "version": "4.5.1"
  }
 },
 "nbformat": 4,
 "nbformat_minor": 5
}
