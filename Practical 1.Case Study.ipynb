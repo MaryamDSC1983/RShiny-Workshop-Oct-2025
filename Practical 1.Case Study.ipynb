{
 "cells": [
  {
   "cell_type": "markdown",
   "id": "92d59897-14b1-432d-aca1-8662cd80f779",
   "metadata": {},
   "source": [
    "# 📌 Hands-On Exercises: Part 1"
   ]
  },
  {
   "cell_type": "markdown",
   "id": "579ace03-ee6d-467e-8f47-b2d3ac92f114",
   "metadata": {},
   "source": [
    "**1**. First, install and load the required packages: **Shiny**, **vroom** (for fast file reading), and **tidyverse** (for data analysis).  "
   ]
  },
  {
   "cell_type": "markdown",
   "id": "8f1f7c52-fc84-4167-b5c5-76a60b269d49",
   "metadata": {},
   "source": [
    "**2**. Download data from [GitHub: data](https://raw.github.com/hadley/mastering-shiny/main/neiss/)"
   ]
  },
  {
   "cell_type": "markdown",
   "id": "9e1bcb49-1dc4-4bcb-861b-416580b3fc0e",
   "metadata": {},
   "source": [
    "**3**. Extract **injuries**, **products** and **population** dataset using **vroom** function."
   ]
  },
  {
   "cell_type": "markdown",
   "id": "5026024a-c22d-4817-90ba-3b2caffe2669",
   "metadata": {},
   "source": [
    "**4**. Extract injuries data related to product **649, \"toilets\"**"
   ]
  },
  {
   "cell_type": "markdown",
   "id": "1197f02c-6a77-48f8-b8ec-e9db7cd478cb",
   "metadata": {},
   "source": [
    "**5**. Summarize **toilet-related injuries** by **location**, **body part**, and **diagnosis**.  Apply the **weight** variable to estimate total injuries across the U.S.  "
   ]
  },
  {
   "cell_type": "markdown",
   "id": "c2fdffaa-c0ea-46d2-8d30-9486a80b3345",
   "metadata": {},
   "source": [
    "**6**. Explore the injury patterns across **age** and **sex**. Furthermore, compare the number of people injured with the total population and calculate an injury rate."
   ]
  },
  {
   "cell_type": "markdown",
   "id": "ede4bb82-81e5-41d2-b38b-747a11886259",
   "metadata": {},
   "source": [
    "**7**. Design a prototype for a Shiny app that:  \n",
    "- **Has one row** for the input (allowing for future expansion of inputs).  \n",
    "- **Includes one row** for three tables, each occupying 4 columns out of a 12-column layout.  \n",
    "- **Contains one row** for a plot displaying relevant data.  \n",
    "\n",
    "**Variables to use:**  \n",
    "- `prod_codes` for the product selection input.  \n",
    "- `selected()` for filtering data based on the chosen product code.  \n",
    "- `output$diag`, `output$body_part`, and `output$location` for rendering the three tables.  \n",
    "- `summary()` for computing aggregated data.  \n",
    "- `output$age_sex` for rendering the plot.  \n"
   ]
  },
  {
   "cell_type": "markdown",
   "id": "e0e906a7-0bf0-4425-8d26-5758f4a74641",
   "metadata": {},
   "source": [
    "  \n",
    "**8**. How would you refine the tables in a Shiny app to display only the most important information while keeping them easy to interpret?  \n",
    "\n",
    "**Requirements:**  \n",
    "- **Truncate the tables** to show only the most relevant data.  \n",
    "- Use **forcats functions** to:  \n",
    "  1. Convert the variable to a factor.  \n",
    "  2. Order the levels by frequency.  \n",
    "  3. Group all levels beyond the top 5 into a single category.  \n",
    "- Implement this approach for `diag`, `body_part`, and `location` tables using the `count_top()` function.  \n",
    "- Ensure the tables remain user-friendly and focused.  \n"
   ]
  },
  {
   "cell_type": "markdown",
   "id": "18ffcb4d-8108-4b5b-b3bd-e7dc36359014",
   "metadata": {},
   "source": [
    "**9**. How would you modify a Shiny app to allow users to toggle between viewing raw injury counts and population-standardized rates in a plot?  \n",
    "\n",
    "**Requirements:**  \n",
    "- Add a **selectInput()** to let users choose between `\"rate\"` and `\"count\"` for the Y-axis.  \n",
    "- Ensure the default selection is `\"rate\"` for better interpretability.  \n",
    "- Conditionally update the plot based on the user’s selection:  \n",
    "  - Display **raw injury counts** if `\"count\"` is selected.  \n",
    "  - Display **population-standardized rates** if `\"rate\"` is selected.  \n",
    "- Maintain flexibility for adding more visualization options in the future.  \n"
   ]
  },
  {
   "cell_type": "markdown",
   "id": "b1123dfa-3918-46b5-b690-573a96eb85bc",
   "metadata": {},
   "source": [
    "**10**. How would you enhance a Shiny app to allow users to interactively explore narratives related to injury data?  \n",
    "\n",
    "**Requirements:**  \n",
    "- Add a **new row at the bottom** of the UI to display narratives.  \n",
    "- Include an **action button (`actionButton()`)** labeled `\"Tell me a story\"` to trigger the display of a new narrative.  \n",
    "- Use **`textOutput()`** to show the selected narrative.  \n",
    "- Implement **`eventReactive()`** to update the narrative **only when the button is clicked** or when the selected product changes.  \n",
    "- Ensure the narrative is sampled dynamically from the available dataset.  \n"
   ]
  },
  {
   "cell_type": "code",
   "execution_count": null,
   "id": "af54057e-fbdf-4ca5-af14-fa92e0e7dc8c",
   "metadata": {},
   "outputs": [],
   "source": []
  }
 ],
 "metadata": {
  "kernelspec": {
   "display_name": "Python 3 (ipykernel)",
   "language": "python",
   "name": "python3"
  },
  "language_info": {
   "codemirror_mode": {
    "name": "ipython",
    "version": 3
   },
   "file_extension": ".py",
   "mimetype": "text/x-python",
   "name": "python",
   "nbconvert_exporter": "python",
   "pygments_lexer": "ipython3",
   "version": "3.11.9"
  }
 },
 "nbformat": 4,
 "nbformat_minor": 5
}
